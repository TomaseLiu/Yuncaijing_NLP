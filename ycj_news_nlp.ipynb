{
 "cells": [
  {
   "cell_type": "code",
   "execution_count": 1,
   "metadata": {
    "collapsed": true
   },
   "outputs": [],
   "source": [
    "#encoding=utf-8\n",
    "import json\n",
    "import os\n",
    "import os.path"
   ]
  },
  {
   "cell_type": "code",
   "execution_count": 2,
   "metadata": {
    "collapsed": true
   },
   "outputs": [],
   "source": [
    "ycj_news_path = \"/home/xiangzi777/workspace/python/Scrapy/yuncaijing/ycj_news\"\n",
    "#ycj_news_path = \"/home/xiangzi777/workspace/python/DM/theme_description/Data/crawl_data/theme_name/ycj_news\""
   ]
  },
  {
   "cell_type": "raw",
   "metadata": {},
   "source": [
    "# 云财经新闻文件名列表"
   ]
  },
  {
   "cell_type": "code",
   "execution_count": 3,
   "metadata": {
    "collapsed": true
   },
   "outputs": [],
   "source": [
    "#encoding=utf-8\n",
    "import json\n",
    "import os\n",
    "import os.path\n",
    "ycj_news_path = \"/home/xiangzi777/workspace/python/Scrapy/yuncaijing/ycj_news\"\n",
    "#ycj_news_path = \"/home/xiangzi777/workspace/python/DM/theme_description/Data/crawl_data/theme_name/ycj_news\"\n",
    "ycj_news_file_name_list = [os.path.join(root, name) for root, dirs, files in os.walk(ycj_news_path) for name in files]        "
   ]
  },
  {
   "cell_type": "code",
   "execution_count": 4,
   "metadata": {
    "collapsed": false
   },
   "outputs": [
    {
     "name": "stdout",
     "output_type": "stream",
     "text": [
      "/home/xiangzi777/workspace/python/Scrapy/yuncaijing/ycj_news/.2692388.ycj.swp\n"
     ]
    }
   ],
   "source": [
    "#主题关系权重字典： '(A, B) : weight'\n",
    "import pickle\n",
    "def get_theme_edge_list(ycj_news_file_name_list):\n",
    "    theme_edge_dict = {}\n",
    "    theme_set = set()\n",
    "    theme_edge_list = []\n",
    "    #主题:主题表字典： {A:[B, C], B:[A, D], ...}\n",
    "    theme_theme_edge_dict = {}\n",
    "    for file_path in ycj_news_file_name_list[0:30000]:\n",
    "        with open(file_path) as news_json_file:\n",
    "            #print file_path\n",
    "            try:\n",
    "                json_data = json.load(news_json_file)\n",
    "            except:\n",
    "                print file_path\n",
    "            related_themes =  json_data['related_theme'].strip().split(' ')\n",
    "            cur_theme_set = set(related_themes)\n",
    "            theme_set |= cur_theme_set\n",
    "        #theme_edge_list = [(themeA, themeB) for themeA in related_themes, ]\n",
    "            theme_edge_list = [(related_themes[i], related_themes[j]) for i in range(0, len(related_themes)) for j in range(i+1, len(related_themes))]\n",
    "            for theme_edge in theme_edge_list:\n",
    "                if theme_edge not in theme_edge_dict:\n",
    "                    theme_edge_dict[theme_edge] = 0\n",
    "                theme_edge_dict[theme_edge] += 1\n",
    "                theme_theme_edge_dict[theme_edge[0]] = set()\n",
    "                theme_theme_edge_dict[theme_edge[1]] = set()\n",
    "    #theme_edge_list = [(theme_edge[0], theme_edge[1]) for theme_edge in theme_edge_dict]\n",
    "    for theme_edge in theme_edge_dict:\n",
    "        #if (u\"P2P\" in theme_edge[0] or u\"P2P\" in theme_edge[1]) and theme_edge_dict[theme_edge] > 5:\n",
    "        if theme_edge_dict[theme_edge] > 3:\n",
    "            #print theme_edge[0], theme_edge[1]\n",
    "            theme_edge_list.append(theme_edge)\n",
    "            theme_theme_edge_dict[theme_edge[0]].add(theme_edge)\n",
    "            theme_theme_edge_dict[theme_edge[1]].add(theme_edge)\n",
    "    #pickle.dump(theme_edge_list, open('theme_edge_list.pickle', 'w'))\n",
    "    return theme_edge_list, theme_theme_edge_dict, theme_edge_dict\n",
    "theme_edge_list, theme_theme_edge_dict, theme_edge_weight_dict = get_theme_edge_list(ycj_news_file_name_list)"
   ]
  },
  {
   "cell_type": "raw",
   "metadata": {},
   "source": [
    "for theme_edge in theme_edge_dict:\n",
    "    print theme_edge[0], theme_edge[1], theme_edge_dict[theme_edge]"
   ]
  },
  {
   "cell_type": "code",
   "execution_count": 5,
   "metadata": {
    "collapsed": true
   },
   "outputs": [],
   "source": [
    "import pickle\n",
    "pickle.dump(theme_theme_edge_dict, open('theme_theme_edge_dict.pickle', 'w'))\n",
    "pickle.dump(theme_theme_edge_dict, open('theme_edge_dict.pickle', 'w'))"
   ]
  },
  {
   "cell_type": "code",
   "execution_count": null,
   "metadata": {
    "collapsed": true
   },
   "outputs": [],
   "source": [
    "print theme_edge_list"
   ]
  },
  {
   "cell_type": "code",
   "execution_count": 6,
   "metadata": {
    "collapsed": false
   },
   "outputs": [
    {
     "name": "stdout",
     "output_type": "stream",
     "text": [
      "<type 'function'>\n"
     ]
    }
   ],
   "source": [
    "import networkx as NX\n",
    "import matplotlib.pyplot as PLT\n",
    "import matplotlib\n",
    "Gh = NX.Graph()\n",
    "#Gh.add_edge(u\"中文\", \"Bike\", weight=1.0)\n",
    "#Gh.add_edge(\"Bike\", \"Apple\", weight=0.9)\n",
    "#Gh.add_edge(\"Me\", \"Bike\", weight=1.1)\n",
    "Gh.add_edges_from(theme_edge_list)\n",
    "all_nodes = Gh.nodes()\n",
    "#print type(Gh.edges())\n",
    "scaled_node_size = lambda(node) : NX.degree(Gh, node) * 200\n",
    "print type(scaled_node_size)\n",
    "#position = NX.spring_layout(Gh)    # just choose a layout scheme\n",
    "#PLT.figure(figsize=(24, 12), dpi=80)\n",
    "#NX.draw_networkx_nodes(Gh, position, node_size=map(scaled_node_size, all_nodes), font_family='sans-serif')\n",
    "#NX.draw_networkx_labels(Gh,position, font_family='SimHei')\n",
    "#NX.draw_networkx_edges(Gh, position, Gh.edges(), width=0.5, alpha=0.9, edge_color=\"green\", font_family='sans-serif')\n",
    "#dots per inch\n",
    "#PLT.axis(\"off\")\n",
    "#PLT.show()\n",
    "#PLT.savefig(\"test.png\")"
   ]
  },
  {
   "cell_type": "code",
   "execution_count": null,
   "metadata": {
    "collapsed": false,
    "scrolled": true
   },
   "outputs": [],
   "source": [
    "#degree = Gh.degree()"
   ]
  },
  {
   "cell_type": "code",
   "execution_count": 7,
   "metadata": {
    "collapsed": true
   },
   "outputs": [],
   "source": [
    "#获得度大于5的节点：good_theme_name_list\n",
    "degree = Gh.degree()\n",
    "#good_theme_name_list = []\n",
    "#for key in degree:\n",
    "#    if degree[key] > 5:\n",
    "#        good_theme_name_list.append((key, degree[key]))\n",
    "        #print key, degree[key]\n",
    "#degree = sorted(degree.values())\n",
    "#print degree"
   ]
  },
  {
   "cell_type": "code",
   "execution_count": 8,
   "metadata": {
    "collapsed": false
   },
   "outputs": [],
   "source": [
    "cur_edge_list = list(theme_theme_edge_dict[u'互联网+'])"
   ]
  },
  {
   "cell_type": "code",
   "execution_count": 9,
   "metadata": {
    "collapsed": false
   },
   "outputs": [],
   "source": [
    "#根据节点的边和节点的度绘制关系图\n",
    "def plot_theme_graph(cur_theme_degree, cur_edge_list, edge_color_list, degree_dict, does_show):\n",
    "    PLT.figure(figsize=(24, 12), dpi=80)\n",
    "    G = NX.Graph()\n",
    "    G.add_edges_from(cur_edge_list)\n",
    "    pos=NX.spring_layout(G)\n",
    "    \n",
    "    edge_colors=edge_color_list\n",
    "    #edge_colors=range(G.size())\n",
    "    #node_colors=range(G.number_of_nodes())\n",
    "    node_colors = [degree_dict[node] for node in G.nodes()]\n",
    "    scaled_node_size = lambda(node) : degree_dict[node] * 20\n",
    "    #node_size_list = 30 * node_colors\n",
    "    #node_colors='#A0CBE2'\n",
    "    #style='dashed|solid', font_size=12, node_size=3000, node_color='#A0CBE2',\n",
    "    NX.draw(G,pos, node_color=node_colors, node_size = map(scaled_node_size, G.nodes()),edge_color=edge_colors,width=4,cmap=PLT.cm.Reds,edge_cmap=PLT.cm.Blues,edge_vmin = -10, edge_vmax = 30, with_labels=True)\n",
    "    PLT.savefig(\"./theme_graph/\" + cur_theme_degree[0] + str(cur_theme_degree[1]) + \".png\") # save as png\n",
    "    if does_show: PLT.show() # display"
   ]
  },
  {
   "cell_type": "code",
   "execution_count": 10,
   "metadata": {
    "collapsed": false
   },
   "outputs": [],
   "source": [
    "#获得一条边上，除了主节点的另一个节点\n",
    "def get_other_node_on_edge(edge, cur_theme_name):\n",
    "    if edge[0] == cur_theme_name:\n",
    "        return edge[1]\n",
    "    elif edge[1] == cur_theme_name:\n",
    "        return edge[0]\n",
    "    else:\n",
    "        return None"
   ]
  },
  {
   "cell_type": "code",
   "execution_count": 11,
   "metadata": {
    "collapsed": true
   },
   "outputs": [],
   "source": [
    "#绘制所有满足度大于degree_filter_flag的节点的关系图；\n",
    "def plot_all_good_theme_graph(degree_dict, theme_theme_edge_dict, degree_filter_flag):\n",
    "    good_theme_name_list = [(key, degree_dict[key]) for key in degree_dict if degree_dict[key] > degree_filter_flag]\n",
    "    for theme_name_degree in good_theme_name_list:\n",
    "        plot_single_theme_graph(theme_name_degree, degree_dict, theme_theme_edge_dict, False)\n",
    "#绘制一个节点的关系图；\n",
    "def plot_single_theme_graph(theme_name_degree, degree_dict, theme_theme_edge_dict, does_show=False):\n",
    "        theme_name = theme_name_degree[0]\n",
    "        #print theme_name\n",
    "        #theme_degree = theme_name_degree[1]\n",
    "        if theme_name not in theme_theme_edge_dict:\n",
    "            return \"None\"\n",
    "        cur_edge_set = theme_theme_edge_dict[theme_name]\n",
    "        other_node_list = [get_other_node_on_edge(edge, theme_name) for edge in cur_edge_set]\n",
    "        #print other_node_list\n",
    "        extend_theme_node_list = [node for node in other_node_list if degree_dict[node] <= 4]\n",
    "        #print extend_theme_node_list\n",
    "        #print extend_theme_node_list\n",
    "        extend_edge_set_list = [theme_theme_edge_dict[extend_theme] for extend_theme in extend_theme_node_list]\n",
    "        extend_edge_set = set().union(*extend_edge_set_list)\n",
    "        #print extend_edge_set\n",
    "        edge_list = list(cur_edge_set | extend_edge_set)\n",
    "        \n",
    "        edge_color_list = [theme_edge_weight_dict[theme_edge] for theme_edge in edge_list]\n",
    "        #node_color_list = []\n",
    "        #node_size_list = [degree_dict[theme_name] for theme_name in ]\n",
    "        plot_theme_graph(theme_name_degree, edge_list, edge_color_list, degree_dict, does_show)"
   ]
  },
  {
   "cell_type": "code",
   "execution_count": 12,
   "metadata": {
    "collapsed": false
   },
   "outputs": [
    {
     "name": "stderr",
     "output_type": "stream",
     "text": [
      "/usr/lib/pymodules/python2.7/matplotlib/collections.py:507: FutureWarning: elementwise comparison failed; returning scalar instead, but in the future will perform elementwise comparison\n",
      "  if self._edgecolors_original != 'face':\n",
      "/usr/lib/pymodules/python2.7/matplotlib/collections.py:446: FutureWarning: elementwise comparison failed; returning scalar instead, but in the future will perform elementwise comparison\n",
      "  if self._edgecolors == 'face':\n"
     ]
    }
   ],
   "source": [
    "plot_single_theme_graph((u'国企改革', 60), degree, theme_theme_edge_dict, True)"
   ]
  },
  {
   "cell_type": "code",
   "execution_count": 9,
   "metadata": {
    "collapsed": false
   },
   "outputs": [],
   "source": [
    "plot_all_good_theme_graph(degree, theme_theme_edge_dict, 7)"
   ]
  },
  {
   "cell_type": "code",
   "execution_count": 13,
   "metadata": {
    "collapsed": false
   },
   "outputs": [],
   "source": [
    "#绘制themes_lv1.txt中的主题关系图；并获得缺失的主题；\n",
    "theme_lv1_list = open('themes_lv1.txt').read().split('\\n')\n",
    "absent_theme_list = []\n",
    "for theme in theme_lv1_list:\n",
    "    if \"None\" == plot_single_theme_graph((theme.decode('utf-8'), 30), degree, theme_theme_edge_dict, False):\n",
    "        absent_theme_list.append(theme)"
   ]
  },
  {
   "cell_type": "code",
   "execution_count": 14,
   "metadata": {
    "collapsed": false
   },
   "outputs": [
    {
     "name": "stdout",
     "output_type": "stream",
     "text": [
      "16\n",
      "自贸区\n",
      "重组\n",
      "高送转\n",
      "二胎\n",
      "ST\n",
      "苹果\n",
      "信息安全\n",
      "虚拟现实\n",
      "举牌\n",
      "中字头\n",
      "依法治国\n",
      "环境保护\n",
      "水利建设\n",
      "交通运输\n",
      "次新\n",
      "\n"
     ]
    }
   ],
   "source": [
    "print len(absent_theme_list)\n",
    "for theme in absent_theme_list:\n",
    "    print theme"
   ]
  },
  {
   "cell_type": "code",
   "execution_count": null,
   "metadata": {
    "collapsed": true
   },
   "outputs": [],
   "source": [
    "NX.clustering(Gh)"
   ]
  },
  {
   "cell_type": "code",
   "execution_count": null,
   "metadata": {
    "collapsed": false
   },
   "outputs": [],
   "source": [
    "component_num = NX.number_connected_components(Gh)\n",
    "print component_num"
   ]
  },
  {
   "cell_type": "code",
   "execution_count": null,
   "metadata": {
    "collapsed": true
   },
   "outputs": [],
   "source": []
  },
  {
   "cell_type": "code",
   "execution_count": null,
   "metadata": {
    "collapsed": false
   },
   "outputs": [],
   "source": [
    "G=NX.star_graph(20)\n",
    "pos=NX.spring_layout(G)\n",
    "colors=range(20)\n",
    "node_colors=range(21)\n",
    "#node_color='#A0CBE2'\n",
    "NX.draw(G,pos,node_color=node_colors, edge_color=colors,width=4,edge_cmap=PLT.cm.Blues,with_labels=True)\n",
    "PLT.savefig(\"edge_colormap.png\") # save as png\n",
    "PLT.show() # display"
   ]
  },
  {
   "cell_type": "code",
   "execution_count": null,
   "metadata": {
    "collapsed": true
   },
   "outputs": [],
   "source": []
  }
 ],
 "metadata": {
  "kernelspec": {
   "display_name": "Python 2",
   "language": "python",
   "name": "python2"
  },
  "language_info": {
   "codemirror_mode": {
    "name": "ipython",
    "version": 2
   },
   "file_extension": ".py",
   "mimetype": "text/x-python",
   "name": "python",
   "nbconvert_exporter": "python",
   "pygments_lexer": "ipython2",
   "version": "2.7.3"
  }
 },
 "nbformat": 4,
 "nbformat_minor": 0
}
